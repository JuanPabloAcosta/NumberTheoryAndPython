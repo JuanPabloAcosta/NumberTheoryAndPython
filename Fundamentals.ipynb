{
 "cells": [
  {
   "cell_type": "markdown",
   "metadata": {},
   "source": [
    "# Fundamentals\n",
    "### Sum properties\n",
    "When we want to sum big group of numbers, the common way for doing so in maths is by using the sigma notation. This notation contains an iterator, a limit variable and the algebraic formula that we want to operate and iterate. This formula is expressed as follows: \n",
    "$$\\sum_{i=0}^{n} i = \\text{Sum of all elements from 0 to n}$$\n",
    "In this case the intention of this book is to put this notation into a programming language, we define a function that takes 2 inputs and returns nicely display functional latex code."
   ]
  },
  {
   "cell_type": "code",
   "execution_count": 32,
   "metadata": {},
   "outputs": [
    {
     "data": {
      "text/latex": [
       "$\\displaystyle \\sum_{i=0}^{5}i = 15$"
      ],
      "text/plain": [
       "<IPython.core.display.Math object>"
      ]
     },
     "metadata": {},
     "output_type": "display_data"
    }
   ],
   "source": [
    "from IPython.display import display,Math\n",
    "import sympy as sym\n",
    "from sympy.abc import *\n",
    "import numpy as np\n",
    "\n",
    "\n",
    "def indexSummation(init,formula,limit):\n",
    "    answer = 0\n",
    "    integer = init\n",
    "    while(init <= limit):\n",
    "        answer += formula.subs({i:init})\n",
    "        init += 1\n",
    "    formula = sym.latex(formula)\n",
    "    return display(Math('\\\\sum_{i=%g}^{%g}'%(integer,limit)+ formula +' = %g'%(answer)))\n",
    "\n",
    "\n",
    "#This function return summation of all expressions that you input in.\n",
    "#Only i variable\n",
    "indexSummation(0,i,5)\n",
    "    "
   ]
  },
  {
   "cell_type": "markdown",
   "metadata": {},
   "source": [
    "The power of computation let us operate faster multiple formulas in a dictionary.\n",
    "For example:"
   ]
  },
  {
   "cell_type": "code",
   "execution_count": 43,
   "metadata": {},
   "outputs": [
    {
     "data": {
      "text/latex": [
       "$\\displaystyle \\sum_{i=1}^{5}i^{3} + i^{2} - 1 = 275$"
      ],
      "text/plain": [
       "<IPython.core.display.Math object>"
      ]
     },
     "metadata": {},
     "output_type": "display_data"
    },
    {
     "data": {
      "text/latex": [
       "$\\displaystyle \\sum_{i=1}^{5}2 i^{2} - 0.5 i + 8 = 142.5$"
      ],
      "text/plain": [
       "<IPython.core.display.Math object>"
      ]
     },
     "metadata": {},
     "output_type": "display_data"
    },
    {
     "data": {
      "text/latex": [
       "$\\displaystyle \\sum_{i=1}^{5}5 i^{4} + i^{3} - i^{2} + 4 = 5085$"
      ],
      "text/plain": [
       "<IPython.core.display.Math object>"
      ]
     },
     "metadata": {},
     "output_type": "display_data"
    }
   ],
   "source": [
    "dic = {'e1': [i**3 + i**2 - 1], 'e2': [2*i**2 - 0.5*i + 8], 'e3': [5*i**4 + i**3 - i**2 + 4]}\n",
    "for j in dic:\n",
    "    indexSummation(1,dic[j][0],5)"
   ]
  },
  {
   "cell_type": "code",
   "execution_count": null,
   "metadata": {},
   "outputs": [],
   "source": []
  },
  {
   "cell_type": "code",
   "execution_count": null,
   "metadata": {},
   "outputs": [],
   "source": []
  }
 ],
 "metadata": {
  "kernelspec": {
   "display_name": "Python 3.7.4 64-bit ('anaconda3': virtualenv)",
   "language": "python",
   "name": "python37464bitanaconda3virtualenv5759cb53758a4a29890f9439ccb3831b"
  },
  "language_info": {
   "codemirror_mode": {
    "name": "ipython",
    "version": 3
   },
   "file_extension": ".py",
   "mimetype": "text/x-python",
   "name": "python",
   "nbconvert_exporter": "python",
   "pygments_lexer": "ipython3",
   "version": "3.7.4"
  }
 },
 "nbformat": 4,
 "nbformat_minor": 2
}
